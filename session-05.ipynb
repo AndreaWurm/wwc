{
 "cells": [
  {
   "cell_type": "markdown",
   "metadata": {},
   "source": [
    "# Session 5: XML\n",
    "\n",
    "In this session we provide a quick introduction to **XML**. We then engage with common uses of `beautifulsoup4` to read, manipulate and write XML data with Python.\n",
    "\n",
    "## XML and HTML\n",
    "\n",
    "Both **XML** and **HTML** are markup languages. Markup languages are systems to annotate documents in a way that the annotation is syntactically distinguishable from the content. What does it mean? Well, we normally want to keep text and metatextual information separated. Metatextual information can be metadata, linguistic annotation, format, content description...\n",
    "\n",
    "Two well known markup formats are **XML** and **HTML**. They are very similar in fact. Both are instances of SGML and both follow the DOM specification. However, **HTML** is a markup format made up of a pre-defined closed set of tags, with a specification that is used by web browsers to present web content. Whereas, **XML** is not restricted to a particular set of elements and/or purpose. Users can define the structure of the document, its elements, attributes, etc.\n",
    "\n",
    "Because most of what we will learn for XML also applies to HTML (we can regard HTML as a specification of the more general XML), and there are plenty of resources in the web to learn HTML, we will focus on XML.\n",
    "\n",
    "### Documents as trees\n",
    "\n",
    "DOM stands for *Document Object Model*. This is the specification of how a **HTML** and **XML** documents has to be structured, as well as how the file is manipulated to create, edit or remove contents.\n",
    "\n",
    "We can think of DOM as a tree structure:"
   ]
  },
  {
   "cell_type": "code",
   "execution_count": null,
   "metadata": {
    "attributes": {
     "classes": [
      "xml"
     ],
     "id": ""
    }
   },
   "outputs": [],
   "source": [
    "<?xml version=\"1.0\" encoding=\"UTF-8\"?>\n",
    "<TextCorpus lang=\"de\">\n",
    "    <text>Karin fliegt nach New York. Sie will dort Urlaub machen.</text>\n",
    "    <tokens>\n",
    "        <token ID=\"t_0\">Karin</token>\n",
    "        <token ID=\"t_1\">fliegt</token>\n",
    "        <token ID=\"t_2\">nach</token>\n",
    "        <token ID=\"t_3\">New</token>\n",
    "        <token ID=\"t_4\">York</token>\n",
    "        <token ID=\"t_5\">.</token>\n",
    "        <token ID=\"t_6\">Sie</token>\n",
    "        <token ID=\"t_7\">will</token>\n",
    "        <token ID=\"t_8\">dort</token>\n",
    "        <token ID=\"t_9\">Urlaub</token>\n",
    "        <token ID=\"t_10\">machen</token>\n",
    "        <token ID=\"t_11\">.</token>\n",
    "    </tokens>\n",
    "</TextCorpus>"
   ]
  },
  {
   "cell_type": "markdown",
   "metadata": {},
   "source": [
    "### XML\n",
    "\n",
    "**XML** stands for E**X**tensible **M**arkup **L**anguage. This language was designed to store and transport data. And it was designed to be both human- and machine-readable. Unlike HTML the structure of the document, the elements, their attributes, and the content are not pre-defined. That provides a very flexible framework.\n",
    "\n",
    "> XML is a generalized way of describing hierarchical structured data. An xml document contains one or more **elements**, which are delimited by **start** and **end** **tags**."
   ]
  },
  {
   "cell_type": "code",
   "execution_count": null,
   "metadata": {
    "attributes": {
     "classes": [
      "xml"
     ],
     "id": ""
    }
   },
   "outputs": [],
   "source": [
    "<s>This is a sentence.</s>"
   ]
  },
  {
   "cell_type": "markdown",
   "metadata": {},
   "source": [
    "> Elements can be nested to any depth. An element inside another one is said to be a subelement or **child**. The first element in every xml document is called the **root** element. An xml document can only have one root element."
   ]
  },
  {
   "cell_type": "code",
   "execution_count": null,
   "metadata": {
    "attributes": {
     "classes": [
      "xml"
     ],
     "id": ""
    }
   },
   "outputs": [],
   "source": [
    "<s>\n",
    "    <token>This</token>\n",
    "    <token>is</token>\n",
    "    <token>a</token>\n",
    "    <token>sentence</token>\n",
    "    <token>.</token>\n",
    "</s>"
   ]
  },
  {
   "cell_type": "markdown",
   "metadata": {},
   "source": [
    "> Elements can have **attributes**, which are name-value pairs. Attributes are listed within the start tag of an element and separated by whitespace. Attribute names can not be repeated within an element. Attribute values must be quoted. You may use either single or double quotes."
   ]
  },
  {
   "cell_type": "code",
   "execution_count": null,
   "metadata": {
    "attributes": {
     "classes": [
      "xml"
     ],
     "id": ""
    }
   },
   "outputs": [],
   "source": [
    "<s id=\"s_0\">\n",
    "    <token pos1=\"DT\" pos2=\"DET\">This</token>\n",
    "    <token pos1=\"VBZ\" pos2=\"VERB\">is</token>\n",
    "    <token pos1=\"DT\" pos2=\"DET\">a</token>\n",
    "    <token pos1=\"NN\" pos2=\"NOUN\">sentence</token>\n",
    "    <token pos1=\".\" pos2=\"PUNCT\">.</token>\n",
    "</s>"
   ]
  },
  {
   "cell_type": "markdown",
   "metadata": {},
   "source": [
    "> If an element has more than one attribute, the ordering of the attributes is not significant. An element’s attributes form an unordered set of keys and values, like a Python dictionary. There is no limit to the number of attributes you can define on each element."
   ]
  },
  {
   "cell_type": "code",
   "execution_count": null,
   "metadata": {
    "attributes": {
     "classes": [
      "xml"
     ],
     "id": ""
    }
   },
   "outputs": [],
   "source": [
    "<s id=\"s_0\">\n",
    "    <token pos1=\"DT\" pos2=\"DET\">This</token>\n",
    "    <token pos2=\"VERB\" pos1=\"VBZ\">is</token>\n",
    "    <token pos1=\"DT\" pos2=\"DET\">a</token>\n",
    "    <token pos2=\"NOUN\" pos1=\"NN\">sentence</token>\n",
    "    <token pos1=\".\" pos2=\"PUNCT\">.</token>\n",
    "</s>"
   ]
  },
  {
   "cell_type": "markdown",
   "metadata": {},
   "source": [
    "> Elements can have **text content**. Elements that contain no text and no children are **empty**. Elements that contain text and children elements are said to contain **mixed content**."
   ]
  },
  {
   "cell_type": "code",
   "execution_count": null,
   "metadata": {
    "attributes": {
     "classes": [
      "xml"
     ],
     "id": ""
    }
   },
   "outputs": [],
   "source": [
    "<s>This is a sentence.</s>"
   ]
  },
  {
   "cell_type": "code",
   "execution_count": null,
   "metadata": {
    "attributes": {
     "classes": [
      "xml"
     ],
     "id": ""
    }
   },
   "outputs": [],
   "source": [
    "<comment type=\"gesture\"/>"
   ]
  },
  {
   "cell_type": "code",
   "execution_count": null,
   "metadata": {
    "attributes": {
     "classes": [
      "xml"
     ],
     "id": ""
    }
   },
   "outputs": [],
   "source": [
    "<s>This is a sentence with <italics>mixed</italics> content.</s>"
   ]
  },
  {
   "cell_type": "markdown",
   "metadata": {},
   "source": [
    "> Finally, xml documents can contain character encoding information on the first line, before the root element."
   ]
  },
  {
   "cell_type": "code",
   "execution_count": null,
   "metadata": {
    "attributes": {
     "classes": [
      "xml"
     ],
     "id": ""
    }
   },
   "outputs": [],
   "source": [
    "<?xml version=\"1.0\" encoding=\"UTF-8\"?>\n",
    "<s>\n",
    "    <token>This</token>\n",
    "    <token>is</token>\n",
    "    <token>a</token>\n",
    "    <token>sentence</token>\n",
    "    <token>.</token>\n",
    "</s>"
   ]
  },
  {
   "cell_type": "markdown",
   "metadata": {},
   "source": [
    "(Mark Pilgrim. *Dive Into Python 3*. <http://www.diveintopython3.net/xml.html>)\n",
    "\n",
    "### Well-formed and valid\n",
    "\n",
    "Web browsers are quite lenient regarding not well-formed and invalid **HTML**. They will try to figure out how to render a page, even if there are errors. However, errors in **XML** documents will stop your **XML** applications. **XML** parsers will choke, **XML** errors are not allowed.\n",
    "\n",
    "Therefore, whenever you work with markup languages, try to check that everything is alright to be sure that your material is error free. Follow this piece of advice and you will avoid lot of headache in the future.\n",
    "\n",
    "#### Well-formed documents\n",
    "\n",
    "A document is well-formed if it is compliant with some minimal requirements:\n",
    "\n",
    "- the document contains a document type declaration\n",
    "- a single element, known as the root element, contains all the other elements in the document.\n",
    "- all elements are well formed (if they are):\n",
    "    - opened and subsequently closed, or\n",
    "    - if empty, properly terminated, and\n",
    "    - properly nested so that they do not overlap\n",
    "- `<`, `>`, `\"`, `'`, and `&` are only used as markup (either part of a tag or a entity). If they are to be used in the document as character, entities should be used instead: `&lt;`, `&gt;`, `&quot;`, `&apos;`, `&amp;`.\n",
    "- there are rules about the characters that can be used in element names and elsewhere\n",
    "- tags are case-sensitive\n",
    "- attribute values have to be quoted\n",
    "- it contains only properly encoded legal Unicode characters\n",
    "\n",
    "#### Valid documents\n",
    "\n",
    "**HTML** documents have to conform to a particular specification where only a closed set of elements and attributes with particular contents and data types are allowed. Try to use anything else and you will get an error.\n",
    "\n",
    "However, the structure and contents of **XML** documents can and have to be defined. The rules describing those aspects are defined in a DTD (Document Type Definition) or **XML** schema. A document is valid if:\n",
    "\n",
    "- it is well-formed, and\n",
    "- it observes the rules dictated by its DTD or **XML** schema.\n",
    "\n",
    "If used properly, **XML** schemas can help you to detect annotation inconsistencies and errors (specially helpful if you are working with data created manually by humans).\n",
    "\n",
    "There are different ways to define documents out there. My favorite schema language is **Relax NG compact**: it is quite easy to understand, write, and read. It is much more powerful than DTDs, but at the same time easier than other **XML** schema languages.\n",
    "\n",
    "#### Validating XML\n",
    "\n",
    "Some **XML** editors allow the validation of **XML** files using a DTD or **XML** schema.\n",
    "\n",
    "<!-- provide the a XML file with its rnc -->\n",
    "\n",
    "<!-- just work with the TCF Validator, to illustrate the point will be enough https://weblicht.sfs.uni-tuebingen.de/tcf-validator/ -->\n",
    "\n",
    "If you have many files to validate, you probably want to use a command line tool like `xmllint`. It is included in [`libxml2`](<http://www.xmlsoft.org/downloads.html>). A library that you would need anyway, if you want to work with `lxml` package locally.\n",
    "\n",
    "If you work with Relax NG Schema compact, you can use [`jing`](<https://github.com/relaxng/jing-trang>). There is also a python wrapper for jing-trang tools <https://pypi.python.org/pypi/jingtrang>.\n",
    "\n",
    "## Python and XML/HTML\n",
    "\n",
    "<!-- illustrate why trying to 'parse' literally or with regexp does not work: indentation, context, attribute order, attribute ambiguity... -->\n",
    "\n",
    "### Packages\n",
    "\n",
    "Python includes different markup processing tools in its standard library.\n",
    "\n",
    "<https://docs.python.org/3.5/library/markup.html>\n",
    "\n",
    "- `html`, an **HTML** and **XHTML** parser.\n",
    "- `xml.etree.ElementTree`, a simple and light **XML** parser, it works pretty well, it is fast and it has a pythonic API.\n",
    "- `xml.dom`, a [DOM](https://en.wikipedia.org/wiki/Document_Object_Model) **XML** parser. The DOM operates on the documents as a whole.\n",
    "- `xml.sax`, a [SAX](https://en.wikipedia.org/wiki/Simple_API_for_XML) **XML** parser. The SAX parser operates on each piece of the **XML** document sequentially.\n",
    "- `xml.parsers.expat`, the Expat parser binding.\n",
    "\n",
    "There are also a few packages not included in the standard library which are very useful:\n",
    "\n",
    "- [`lxml`](http://lxml.de), which uses `libxml2` and `libxslt` libraries. It parses **XML** and **HTML** and it is very fast. It follows the ElementTree API. Moreover, it adds interesting features like `XPath`, `XSLT` and much more.\n",
    "- [`html5lib`](https://github.com/html5lib/html5lib-python), an **HTML** parser that creates valid **HTML5**, and parses pages like a browser does (extremely lenient).\n",
    "- [`beautifulsoup4`](http://www.crummy.com/software/BeautifulSoup), a Python library for pulling data out of **HTML** and **XML** files. It provides idiomatic ways of navigating, searching and modifying the parse tree. You can use different parsers under the hood (like the excellent `lxml` and `html5lib`). You just learn one API and you use it for all the parsers.\n",
    "\n",
    "### Setting up the environment\n",
    "\n",
    "We are going to use `lxml` and `beautifulsoup4`. These packages are not part of python's standard library. We need to install them by using `pip`, the python package manager.\n",
    "\n",
    "Go to the Shell Terminals in the cloud.\n",
    "\n",
    "Install `lxml`:"
   ]
  },
  {
   "cell_type": "code",
   "execution_count": null,
   "metadata": {
    "attributes": {
     "classes": [
      "shell"
     ],
     "id": ""
    }
   },
   "outputs": [],
   "source": [
    "sudo rpm --rebuilddb && sudo yum install -y libxml2-devel libxslt-devel && pip install lxml"
   ]
  },
  {
   "cell_type": "markdown",
   "metadata": {},
   "source": [
    "Then, install `beautifulsoup4`:"
   ]
  },
  {
   "cell_type": "code",
   "execution_count": null,
   "metadata": {
    "attributes": {
     "classes": [
      "shell"
     ],
     "id": ""
    }
   },
   "outputs": [],
   "source": [
    "pip install beautifulsoup4"
   ]
  },
  {
   "cell_type": "markdown",
   "metadata": {},
   "source": [
    "> If you are working locally, the procedure to install `lxml` will be different. Check [Installing lxml](http://lxml.de/installation.html) for more information.\n",
    "\n",
    "## Working with XML\n",
    "\n",
    "### Read XML from a string"
   ]
  },
  {
   "cell_type": "markdown",
   "metadata": {},
   "source": [
    "Cool! That's nice. Let's get familiar with our soup.\n",
    "\n",
    "### Common operations\n",
    "\n",
    "\n",
    "\n",
    "### Read a XML file\n",
    "\n",
    "TCF format <http://weblicht.sfs.uni-tuebingen.de/weblichtwiki/index.php/The_TCF_Format>"
   ]
  },
  {
   "cell_type": "code",
   "execution_count": null,
   "metadata": {},
   "outputs": [],
   "source": [
    "\n"
   ]
  },
  {
   "cell_type": "markdown",
   "metadata": {},
   "source": [
    "### Extracting Info\n",
    "\n",
    "### Challenges\n",
    "\n",
    "- reconstruct the text from `tokens`, so `text == tokens`\n",
    "- find all nouns, print the POS tag\n",
    "- find all nouns, retrieve word forms, print the text of the token\n",
    "- find all nouns, check condition, retrieve POS tag of previous token\n",
    "\n",
    "\n",
    "### Manipulating XML\n",
    "\n",
    "### Challenge"
   ]
  },
  {
   "cell_type": "code",
   "execution_count": null,
   "metadata": {},
   "outputs": [],
   "source": [
    "soup = BeautifulSoup(open('tcf04-karin-wl.xml', 'r', encoding='utf-8'), 'xml')"
   ]
  },
  {
   "cell_type": "markdown",
   "metadata": {},
   "source": [
    "- lower case all tokens\n",
    "- change the `tag` 'ID' value, by changing the prefix. Instead of `pt` now should be `postag`.\n",
    "- add `length` in characters to `token`\n",
    "- add `length` in tokens to `sentence`\n",
    "- for each `token` add an attribute called `pos` which should be its value from `tag`.\n",
    "- renumber tokens, instead of starting at `0` they should start at `1`\n",
    "- remove elements\n",
    "- strip tags\n",
    "\n",
    "### Creating an XML file\n",
    "\n",
    "### Challenge\n",
    "\n",
    "- convert list of tokens into into XML (tokens with attributes)"
   ]
  }
 ],
 "metadata": {},
 "nbformat": 4,
 "nbformat_minor": 0
}
