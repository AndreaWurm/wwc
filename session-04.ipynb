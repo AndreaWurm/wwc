{
 "cells": [
  {
   "cell_type": "markdown",
   "metadata": {},
   "source": [
    "# Regular expressions\n",
    "\n",
    "This session goes into detail about the syntax and use-cases for regular expressions, both for searching text and working with data files and directories.\n",
    "\n",
    "## Introduction to the syntax\n",
    "\n",
    "Let's practice in [a richer environment](https://regex101.com/#python) to start with.\n",
    "\n",
    "## The `re` module\n"
   ]
  },
  {
   "cell_type": "code",
   "execution_count": null,
   "metadata": {},
   "outputs": [],
   "source": [
    ""
   ]
  },
  {
   "cell_type": "code",
   "execution_count": null,
   "metadata": {},
   "outputs": [],
   "source": [
    ""
   ]
  },
  {
   "cell_type": "code",
   "execution_count": null,
   "metadata": {},
   "outputs": [],
   "source": [
    ""
   ]
  },
  {
   "cell_type": "code",
   "execution_count": null,
   "metadata": {},
   "outputs": [],
   "source": [
    ""
   ]
  },
  {
   "cell_type": "code",
   "execution_count": null,
   "metadata": {},
   "outputs": [],
   "source": [
    ""
   ]
  },
  {
   "cell_type": "markdown",
   "metadata": {},
   "source": [
    "## Resources around the web\n",
    "\n",
    "### Checkers\n",
    "\n",
    "* [regexr](http://regexr.com/)\n",
    "* [regextester](http://www.regextester.com/)\n",
    "\n",
    "### Cheatsheets\n",
    "\n",
    "* [https://www.debuggex.com/cheatsheet/regex/python](https://www.debuggex.com/cheatsheet/regex/python)\n",
    "* [pyregex](http://www.pyregex.com/)\n",
    "\n",
    "### Crosswords\n",
    "\n",
    "* [regexcrossword](https://regexcrossword.com/)"
   ]
  }
 ],
 "metadata": {},
 "nbformat": 4,
 "nbformat_minor": 0
}
