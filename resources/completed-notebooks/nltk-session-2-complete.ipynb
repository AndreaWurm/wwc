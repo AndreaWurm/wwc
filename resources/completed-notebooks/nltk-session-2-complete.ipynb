{
 "cells": [
  {
   "cell_type": "markdown",
   "metadata": {},
   "source": [
    "# Session 2: Common NLTK tasks\n",
    "\n",
    "In this session we provide an quick introduction to the field of *corpus linguistics*. We then engage with common uses of NLTK within these areas, such as sentence segmentation, tokenisation and stemming. Often, NLTK has inbuilt methods for performing these tasks. As a learning exercise, however, we will sometimes build basic tools from scratch.\n",
    "\n",
    "## Corpus linguistics\n",
    "\n",
    "Though corpus linguistics has been around since the 1950s, it is only in the last 20 years that its methods have been made available to individual researchers. GUIs including [Wordsmith Tools](http://www.lexically.net/wordsmith/) and [AntConc](http://www.laurenceanthony.net/software.html).\n",
    "\n",
    "Alongside the development of GUIs, there has also been a shift from *general, balanced corpora* (corpora seeking to represent a language generally) toward *specialised corpora* (corpora containing texts of one specific type, from one speaker, etc.). More and more commonly, texts are taken from the Web.\n",
    "\n",
    "> We'll discuss building corpora from online texts in a bit more detail later in the course.\n",
    "\n",
    "After a long period of resistance, corpus linguistics has gained acceptence within a number of research areas. A few popular applications are within:\n",
    "\n",
    "* **Lexicography** (creating usage-based definitions of words and locating real examples)\n",
    "* **Language pedagogy** (advanced language learners can use a concordancing GUI or collocation tests to understand how certain words are used in the target language)\n",
    "* **Discourse analysis** (researching how meaning is made beyond the level of the clause/sentence)\n",
    "\n",
    "Notably, corpus linguistic methods have been embraced within the emerging paradigm of Digital Humanities, where it's sometimes called *distant reading*.\n",
    "\n",
    "### Corpora and discourse\n",
    "\n",
    "As hardware, software and data become more and more available, people have started using corpus linguistic methods for discourse-analytic work. Paul Baker refers the combination of corpus linguistics and (critical) discourse analysis as a [*useful methodological synergy*](#ref:baker). Corpora bring objectivity and empiricism to a qualitative, interpretative tradition, while discourse- analytic methods provide corpus linguistics with a means of contextualising abstracted results.\n",
    "\n",
    "Within this area, researchers rely on corpora to varying extents. In *corpus-driven* discourse analysis, researchers interpret the corpus based on the findings of the corpus interrogation. In *corpus-assisted* discourse analysis, researchers may use corpora to provide evidence about the way a given person/idea/discourse is commonly represented by certain people/in certain publications etc.\n",
    "\n",
    "Our work here falls under the *corpus-driven* heading, as we are exploring the dataset without any major hypotheses in mind.\n",
    "\n",
    "> Some linguists remain skeptical of corpus linguistics generally. In\n",
    "a well-known critique, Henry Widdowson ([2000, p. 6-7](#ref:widdowson)) said:\n",
    ">\n",
    "> Corpus linguistics \\[...\\] (there) is no doubt that this is an immensely important development in descriptive linguistics. That is not the issue here. The quantitative analysis of text by computer reveals facts about actual language behaviour which are not, or at least not immediately, accessible to intuition. There are frequencies of occurrence of words, and regular patterns of collocational co-occurrence, which users are unaware of, though they must be part of their competence in a procedural sense since they would not otherwise be attested. They are third person observed data ('When do they use the word X?') which are different from the first person data of introspection ('When do I use the word X?'), and the second person data of elicitation ('When do you use the word X?'). Corpus analysis reveals textual facts, fascinating profiles of produced language, and its concordances are always springing surprises. They do indeed reveal a reality about language usage which was hitherto not evident to its users.\n",
    ">\n",
    "> But this achievement of corpus analysis at the same time necessarily defines its limitations. For one thing, since what is revealed is contrary to intuition, then it cannot represent the reality of first person awareness. We get third person facts of what people do, but not the facts of what people know, nor what they think they do: they come from the perspective of the observer looking on, not the introspective of the insider. In ethnomethodogical terms, we do not get member categories of description. Furthermore, it can only be one aspect of what they do that is captured by such quantitative analysis. For, obviously enough, the computer can only cope with the material products ofwhat people do when they use language. It can only analyse the textual traces of the processes whereby meaning is achieved: it cannot account for the complex interplay of linguistic and contextual factors whereby discourse is enacted. It cannot produce ethnographic descriptions of language use. In reference to Hymes's components of communicative competence (Hymes 1972), we can say that corpus analysis deals with the textually attested, but not with the encoded possible, nor the contextually appropriate.\n",
    ">\n",
    "> To point out these rather obvious limitations is not to undervalue corpus analysis but to define more clearly where its value lies. What it can do is reveal the properties of text, and that is impressive enough. But it is necessarily only a partial account of real language. For there are certain aspects of linguistic reality that it cannot reveal at all. In this respect, the linguistics of the attested is just as partial as the linguistics of the possible.\n",
    "\n",
    "## Loading a corpus\n",
    "\n",
    "First, we have to load a corpus. We'll use a text file containing posts to an Australian online forum for discussing politics. It's full of very interesting natural language data!"
   ]
  },
  {
   "cell_type": "code",
   "execution_count": 1,
   "metadata": {
    "collapsed": false
   },
   "outputs": [
    {
     "data": {
      "text/html": [
       "<iframe src=http://www.ozpolitic.com/forum/YaBB.pl?board=global width=700 height=350></iframe>"
      ],
      "text/plain": [
       "<IPython.core.display.HTML object>"
      ]
     },
     "execution_count": 1,
     "metadata": {},
     "output_type": "execute_result"
    }
   ],
   "source": [
    "from IPython.display import display\n",
    "from IPython.display import HTML\n",
    "HTML('<iframe src=http://www.ozpolitic.com/forum/YaBB.pl?board=global width=700 height=350></iframe>')"
   ]
  },
  {
   "cell_type": "markdown",
   "metadata": {},
   "source": [
    "This file is available online, at the [ResBaz GitHub](https://github.com/resbaz/nltk). We can ask Python to get it for us.\n",
    "\n",
    "> Later in the course, we'll discuss how to extract data from the Web and turn this data into a corpus."
   ]
  },
  {
   "cell_type": "code",
   "execution_count": 3,
   "metadata": {
    "collapsed": false
   },
   "outputs": [
    {
     "data": {
      "text/plain": [
       "u\"no greens-win, many of us right wingers want to stay the hell out of the middle east. nothing is going to stop that sh.thole of the world from tearing each others' throats out.\\nafter all, they have been doing it successfully for centuries.\\nthen you better start educating your hard right mates about greens' renewable energy. sooner we end our addiction to arab oil and middle eastern exports, like live animals, the sooner we can distance ourselves.\\ni am not saying that all muslims are like this. however, i am saying that many, many of them are. they are flying under the radar and getting strong, just like hitler's storm troopers before little adolph rose to power.\\nsensationalist right? no one thought much about little adolph and his brown shirted followers, until they stormed to power, whilst the do gooders stood by and tut tutted.\\nif you are a student of history you can see exactly what is happening here. soon it will be too late, it most probably already is.\\njust when sydney-siders thought it was safe to close their eyes and go to sleep for a night, pondering the lack of evening gun battles lately, they learn of something worse than drive by shootings.\\nas they woke to another day\\x92s work the people of sydney [and melbourne] learned of a joint operation between their states\\x92 police forces and the australian federal police, against an imminent terrorist attack in their cities.\\nfour men - all australian citizens - were arrested this morning as federal and state police, armed with search warrants, swooped on members of the suspected terror cell this morning in the second-largest counter-terrorism operation in the nation's history\\x85. about 400 police raided homes in the northern melbourne suburbs of glenroy, meadow heights, roxburgh park, broadmeadows, westmeadows, preston and epping. they also raided homes at carlton in inner melbourne and colac in southwestern victoria. (source)\\nthe intention, apparently, was to attack a sydney army base:\\nauthorities believe the group is\""
      ]
     },
     "execution_count": 3,
     "metadata": {},
     "output_type": "execute_result"
    }
   ],
   "source": [
    "import requests # a library for working with urls \n",
    "url = \"https://raw.githubusercontent.com/resbaz/nltk/master/corpora/oz_politics/ozpol.txt\" # define the url\n",
    "response = requests.get(url)\n",
    "raw_text = response.text\n",
    "raw_text = raw_text.lower() # make it lowercase\n",
    "len(raw_text) # how many characters does it contain?\n",
    "raw_text[:2000] # first 2000 characters"
   ]
  },
  {
   "cell_type": "markdown",
   "metadata": {},
   "source": [
    "Let's save the corpus to our cloud as a text file."
   ]
  },
  {
   "cell_type": "code",
   "execution_count": 4,
   "metadata": {
    "collapsed": true
   },
   "outputs": [],
   "source": [
    "with open('forum.txt', 'w') as fo:\n",
    "    fo.write(raw_text.encode('utf-8'))"
   ]
  },
  {
   "cell_type": "code",
   "execution_count": 6,
   "metadata": {
    "collapsed": false
   },
   "outputs": [
    {
     "name": "stdout",
     "output_type": "stream",
     "text": [
      "142575\n",
      "no greens-win, many of us right wingers want to stay the hell out of the middle east. nothing is going to stop that sh.thole of the world from tearing each others' throats out.\n",
      "after all, they have been doing it successfully for centuries.\n",
      "then you better start educating your hard right mates about greens' renewable energy. sooner we end our addiction to arab oil and middle eastern exports, like live animals, the sooner we can distance ourselves.\n",
      "i am not saying that all muslims are like this. however, i am saying that many, many of them are. they are flying under the radar and getting strong, just like hitler's storm troopers before little adolph rose to power.\n",
      "sensationalist right? no one thought much about little adolph and his brown shirted followers, until they stormed to power, whilst the do gooders stood by and tut tutted.\n",
      "if you are a student of history you can see exactly what is happening here. soon it will be too late, it most probably already is.\n",
      "just when sydney-siders thought it was safe to close their eyes and go to sleep for a night, pondering the lack of evening gun battles lately, they learn of something worse than drive by shootings.\n",
      "as they woke to another days work the people of sydney [and melbourne] learned of a joint operation between their states police forces and the australian federal police, against an imminent terrorist attack in their cities.\n",
      "four men - all australian citizens - were arrested this morning as federal and state police, armed with search warrants, swooped on members of the suspected terror cell this morning in the second-largest counter-terrorism operation in the nation's history",
      ". about 400 police raided homes in the northern melbourne suburbs of glenroy, meadow heights, roxburgh park, broadmeadows, westmeadows, preston and epping. they also raided homes at carlton in inner melbourne and colac in southwestern victoria. (source)\n",
      "the intention, apparently, was to attack a sydney army base:\n",
      "authorities believe the group is\n"
     ]
    }
   ],
   "source": [
    "f = open('forum.txt')\n",
    "raw_text = f.read()\n",
    "raw_text = unicode(raw_text.lower(), 'utf-8') # make it lowercase and unicode\n",
    "print(len(raw_text))\n",
    "print(raw_text[:2000])"
   ]
  },
  {
   "cell_type": "markdown",
   "metadata": {},
   "source": [
    "## Sentence segmentation\n",
    "\n",
    "We now e can now start to turn our corpus into a structured resource. At present, we have `raw_text`, a very, very long string of text.\n",
    "\n",
    "We should break the string into segments. First, we'll split the corpus into sentences. This task is a pretty boring one, and it's tough for us to improve on existing resources. We'll try, though."
   ]
  },
  {
   "cell_type": "code",
   "execution_count": 9,
   "metadata": {
    "collapsed": false
   },
   "outputs": [
    {
     "data": {
      "text/plain": [
       "[u'post some better information.',\n",
       " u\"there's been hundreds in iraq alone.\",\n",
       " u'the iraq terrorist attacks are reported.',\n",
       " u\"you need to look harder:\\njihadists issuing their warning that the beheadings will continue if the u.s. continues to support the kurdshours after shocking world with desert execution of 300 syrian soldiers, isis parade kurds dressed in guantanamo-style suits, behead one and promise to kill them all unless usa pull out of iraq\\nsurvivor: mohammed, whose name has been changed out of fears for his safety, was forced to attend an islamic state children's campsurvivor of isis children's camp reveals how young boys are whipped and made to watch men being crucified and women stoned to death\\nin the last 10 or 15 years, most of (more than half) the terror attacks/deaths have been the result of islamic extremists.\",\n",
       " u'in the last 10 to 15 years, most (more than half) terrorist attacks have been carried out by non-muslims.',\n",
       " u\"i've already provided the proof of this.\",\n",
       " u\"if you refuse to believe, that's your problem.\",\n",
       " u'go on crossing the road every time you see a muslim on your side of the street, if that makes you feel safer.',\n",
       " u\"no, actually you have not..your 'proof' ends in 2005, which is 9 years ago..how many non-mulim terror attacks happened between 2005 and 2014, and how many muslim terror attacks happened in the same period??\",\n",
       " u'well just for the july section of that wiki link, about 26 out of 31 attacks were muslim inspired attacks.']"
      ]
     },
     "execution_count": 9,
     "metadata": {},
     "output_type": "execute_result"
    }
   ],
   "source": [
    "nltk.data.path.append('/Users/daniel/Work/corpkit/nltk_data')\n",
    "import nltk.data\n",
    "sent_tokenizer=nltk.data.load('tokenizers/punkt/english.pickle')\n",
    "sents = sent_tokenizer.tokenize(raw_text)\n",
    "sents[101:111]"
   ]
  },
  {
   "cell_type": "markdown",
   "metadata": {},
   "source": [
    "Alright, we have sentences. Now what?\n",
    "\n",
    "## Tokenisation\n",
    "\n",
    "Tokenisation is simply the process of breaking texts down into words. We already did a little bit of this in Session 1. We won't build our own tokenizer, because it's not much fun. NLTK has one we can rely on.\n",
    "\n",
    "Keep in mind that definitions of tokens are not standardised, especially for languages other than English. Serious problems arise when comparing two corpora that have been tokenised differently."
   ]
  },
  {
   "cell_type": "code",
   "execution_count": 10,
   "metadata": {
    "collapsed": false
   },
   "outputs": [
    {
     "name": "stdout",
     "output_type": "stream",
     "text": [
      "[[u'no', u'greens-win', u',', u'many', u'of', u'us', u'right', u'wingers', u'want', u'to', u'stay', u'the', u'hell', u'out', u'of', u'the', u'middle', u'east', u'.'], [u'nothing', u'is', u'going', u'to', u'stop', u'that', u'sh.thole', u'of', u'the', u'world', u'from', u'tearing', u'each', u'others', u\"'\", u'throats', u'out', u'.'], [u'after', u'all', u',', u'they', u'have', u'been', u'doing', u'it', u'successfully', u'for', u'centuries', u'.'], [u'then', u'you', u'better', u'start', u'educating', u'your', u'hard', u'right', u'mates', u'about', u'greens', u\"'\", u'renewable', u'energy', u'.'], [u'sooner', u'we', u'end', u'our', u'addiction', u'to', u'arab', u'oil', u'and', u'middle', u'eastern', u'exports', u',', u'like', u'live', u'animals', u',', u'the', u'sooner', u'we', u'can', u'distance', u'ourselves', u'.'], [u'i', u'am', u'not', u'saying', u'that', u'all', u'muslims', u'are', u'like', u'this', u'.'], [u'however', u',', u'i', u'am', u'saying', u'that', u'many', u',', u'many', u'of', u'them', u'are', u'.'], [u'they', u'are', u'flying', u'under', u'the', u'radar', u'and', u'getting', u'strong', u',', u'just', u'like', u'hitler', u\"'s\", u'storm', u'troopers', u'before', u'little', u'adolph', u'rose', u'to', u'power', u'.'], [u'sensationalist', u'right', u'?'], [u'no', u'one', u'thought', u'much', u'about', u'little', u'adolph', u'and', u'his', u'brown', u'shirted', u'followers', u',', u'until', u'they', u'stormed', u'to', u'power', u',', u'whilst', u'the', u'do', u'gooders', u'stood', u'by', u'and', u'tut', u'tutted', u'.']]\n"
     ]
    }
   ],
   "source": [
    "tokenized_sents = [nltk.word_tokenize(i) for i in sents]\n",
    "print(tokenized_sents[:10])\n",
    "# another view:\n",
    "# tokenized_sents[:10]"
   ]
  },
  {
   "cell_type": "markdown",
   "metadata": {},
   "source": [
    "What we have is a list of lists: sentences and their tokens. We might also want to flatten the list:"
   ]
  },
  {
   "cell_type": "code",
   "execution_count": 11,
   "metadata": {
    "collapsed": true
   },
   "outputs": [],
   "source": [
    "flat = sum(tokenized_sents, [])"
   ]
  },
  {
   "cell_type": "markdown",
   "metadata": {},
   "source": [
    "... the sentence segmentation is still important, however, as it helped with proper handling of sentence final punctuation, for example.\n",
    "\n",
    "Let's jump quickly into analysing the corpus. Like in the last lesson, we might want to count tokens. That can be very simple:"
   ]
  },
  {
   "cell_type": "code",
   "execution_count": 12,
   "metadata": {
    "collapsed": true
   },
   "outputs": [],
   "source": [
    "def howmany(word):\n",
    "    return sum([s.count(word) for s in tokenized_sents])"
   ]
  },
  {
   "cell_type": "markdown",
   "metadata": {},
   "source": [
    "Cool. Two problems, though. First, this takes one word of interest at a time. Second, we can only search for literal words.\n",
    "\n",
    "## Loops\n",
    "\n",
    "A common programming method for reperforming some function is the *loop*. Most prototypical is the *for loop*:"
   ]
  },
  {
   "cell_type": "code",
   "execution_count": 13,
   "metadata": {
    "collapsed": false
   },
   "outputs": [
    {
     "data": {
      "text/plain": [
       "[0, 1, 2, 3, 4, 5, 6, 7, 8, 9]"
      ]
     },
     "execution_count": 13,
     "metadata": {},
     "output_type": "execute_result"
    }
   ],
   "source": [
    "range(10)"
   ]
  },
  {
   "cell_type": "code",
   "execution_count": 15,
   "metadata": {
    "collapsed": false
   },
   "outputs": [
    {
     "name": "stdout",
     "output_type": "stream",
     "text": [
      "Number 0\n",
      "Number 1\n",
      "Number 2\n",
      "Number 3\n",
      "Number 4\n",
      "Number 5\n",
      "Number 6\n",
      "Number 7\n",
      "Number 8\n",
      "Number 9\n"
     ]
    }
   ],
   "source": [
    "for i in range(10):\n",
    "    print 'Number', i"
   ]
  },
  {
   "cell_type": "markdown",
   "metadata": {},
   "source": [
    "So, how would we put this to work with our `howmany()` function?"
   ]
  },
  {
   "cell_type": "code",
   "execution_count": 17,
   "metadata": {
    "collapsed": false
   },
   "outputs": [
    {
     "name": "stdout",
     "output_type": "stream",
     "text": [
      "terror 14\n",
      "refugee 2\n",
      "refugees 6\n",
      "islam 29\n"
     ]
    }
   ],
   "source": [
    "wordlist = ['terror', 'refugee', 'refugees', 'islam']\n",
    "for word in wordlist:\n",
    "    print word, howmany(word)"
   ]
  },
  {
   "cell_type": "markdown",
   "metadata": {},
   "source": [
    "Powerful, eh? The next problem, however, is that we're stuck writing out 'refugee' and `refugees`.\n",
    "\n",
    "## Regular expressions\n",
    "\n",
    "Regular expressions are a language for searching strings of characters. For us right now, they're a language inside a language. Alphanumeric characters and some punctuation work just like normal searches, but some special characters have different meanings. You've probably already seen some of these in the wild, like the asterisk as wildcard."
   ]
  },
  {
   "cell_type": "code",
   "execution_count": 18,
   "metadata": {
    "collapsed": false
   },
   "outputs": [
    {
     "data": {
      "text/plain": [
       "unicode"
      ]
     },
     "execution_count": 18,
     "metadata": {},
     "output_type": "execute_result"
    }
   ],
   "source": [
    "type(raw_text)"
   ]
  },
  {
   "cell_type": "code",
   "execution_count": 26,
   "metadata": {
    "collapsed": false
   },
   "outputs": [
    {
     "name": "stdout",
     "output_type": "stream",
     "text": [
      "[u'nothing', u'going', u'tearing', u'doing', u'educating', u'saying', u'saying', u'flying', u'getting', u'happening', u'pondering', u'evening', u'something', u'morning', u'morning', u'epping', u'preparing', u'using', u'carrying', u'burgeoning', u'hating', u'embracing', u'gratifying', u'going', u'everything', u'going', u'saying', u'interfering', u'anything', u'comparing', u'committing', u'gratifying', u'going', u'everything', u'going', u'comparing', u'hiding', u'hiding', u'interesting', u'happening', u'growing', u'doing', u'thing', u'killing', u'following', u'showing', u'willing', u'drinking', u'spring', u'doing', u'persuading', u'struggling', u'anything', u'saying', u'saying', u'saying', u'killing', u'killing', u'saying', u'lying', u'backpedaling', u'willing', u'reporting', u'talking', u'issuing', u'warning', u'shocking', u'being', u'crossing', u'talking', u'putting', u'carrying', u'something', u'reoccurring', u'defending', u'alarming', u'thing', u'nothing', u'bombing', u'bombing', u'blaming', u'doing', u'reading', u'expanding', u'talking', u'demonstrating', u'going', u'talking', u'having', u'going', u'being', u'being', u'sitting', u'reflecting', u'generating', u'trying', u'annihilating', u'turning', u'killing', u'happening', u'hanging', u'something', u'saying', u'interfering', u'going', u'denying', u'defending', u'opening', u'loving', u'leading', u'refusing', u'seeking', u'lying', u'asking', u'going', u'feeding', u'talking', u'sucking', u'everything', u'fulfilling', u'being', u'dying', u'dying', u'coming', u'going', u'being', u'listening', u'reasoning', u'going', u'going', u'wring', u'reflecting', u'generating', u'something', u'waiting', u'judging', u'anything', u'going', u'chopping', u'displaying', u'cleansing', u'forcing', u'throwing', u'getting', u'happening', u'seeing', u'claiming', u'stating', u'winning', u'morning', u'being', u'working', u'happening', u'noting', u'mustering', u'having', u'saying', u'everything', u'taking', u'going', u'doing', u'itching', u'something', u'going', u'waving', u'something', u'getting', u'engaging', u'being', u'luring', u'nothing', u'being', u'revealing', u'disputing', u'cleansing', u'thing', u'thing', u'carrying', u'doing', u'putting', u'posting', u'making', u'condemning', u'going', u'anything', u'happening', u'chopping', u'solving', u'being', u'making', u'allowing', u'restraining', u'begging', u'nothing', u'trying', u'tipping', u'nothing', u'looking', u'understanding', u'anything', u'thinking', u'jumping', u'thing', u'bullying', u'everything', u'wondering', u'insulting', u'something', u'resulting', u'involving', u'killing', u'doing', u'blowing', u'driving', u'being', u'committing', u'holding', u'going', u'doing', u'something', u'growing', u'anything', u'expecting', u'saying', u'printing', u'hoping', u'having', u'reading', u'twisting', u'everything', u'expanding', u'living', u'living', u'getting', u'going', u'living', u'posting', u'fluffing', u'becoming', u'drilling', u'buying', u'producing', u'producing', u'drilling', u'being', u'drilling', u'going', u'existing', u'drilling', u'losing', u'anything', u'taking', u'lying', u'happening', u'dropping', u'morning', u'believing', u'reporting', u'going', u'getting', u'something', u'thing', u'guessing', u'thinking', u'telling', u'telling', u'settling', u'siding', u'running', u'spouting', u'something', u'being', u'beheading', u'doing', u'paying', u'having', u'being', u'morning', u'talking', u'being', u'deposing', u'sacking', u'being', u'propping', u'allowing', u'living', u'thing', u'wearing', u'working', u'interesting', u'paying', u'funding', u'coming', u'funding', u'having', u'thing', u'nothing', u'pulling', u'referring', u'tolerating', u'nothing', u'pulling', u'referring', u'thing', u'emptying', u'being', u'anything', u'spewing', u'leaving', u'making', u'being', u'stopping', u'gaining', u'willing', u'cracking', u'marching', u'declaring', u'being', u'sitting', u'eating', u'sitting', u'being', u'sitting', u'providing', u'nothing', u'living', u'falling', u'struggling', u'trying', u'selling', u'following', u'preventing', u'defending', u'defending', u'defending', u'promoting', u'polling', u'improving', u'hiding', u'providing', u'fighting', u'posing', u'begging', u'anything', u'wetting', u'yelling', u'something', u'anything', u'saying', u'being', u'shooting', u'being', u'thing', u'having', u'deafening', u'using', u'whingeing', u'insulting', u'telling', u'calling', u'saying', u'remembering', u'everything', u'fighting', u'looking', u'trying', u'blazing', u'thing', u'having', u'nothing', u'nothing', u'charming', u'nothing', u'nothing', u'wishing', u'nothing', u'wanting', u'refusing', u'playing', u'saying', u'itching', u'raring', u'taking', u'nothing', u'nothing', u'glorifying', u'saying', u'confusing', u'saying', u'saying', u'being', u'asking', u'doing', u'running', u'trying', u'telling', u'screaming', u'sing', u'fighting', u'nothing', u'following', u'getting', u'according', u'leaning', u'having', u'anything', u'anything', u'functioning', u'discussing', u'playing', u'training', u'destroying', u'meddling', u'joining', u'spring', u'reponding', u'willing', u'getting', u'shooting', u'trying', u'breeding', u'spreading', u'building', u'trapping', u'riding', u'saying', u'looking', u'picking', u'playing', u'hearing', u'refreshing', u'backing', u'throwing', u'fostering', u'strengthening', u'supressing', u'including', u'standing', u'thing', u'making', u'bombing', u'bombing', u'bombing', u'happening', u'overcoming', u'bombing', u'anything', u'supplying', u'becoming', u'nothing', u'becoming', u'interesting', u'thing', u'trying', u'quoting', u'going', u'going', u'anything', u'submitting', u'bombing', u'anything', u'playing', u'buying', u'something', u'being', u'buying', u'throwing', u'watching', u'doing', u'smashing', u'watching', u'warmongering', u'taking', u'making', u'going', u'helping', u'opening', u'being', u'drowning', u'fleeing', u'nothing', u'nothing', u'fleeing', u'nothing', u'interacting', u'rocking', u'bring', u'nothing', u'thing', u'bringing', u'being', u'attacking', u'ongoing', u'being', u'going', u'minimising', u'breathtaking', u'being', u'committing', u'joining', u'being', u'planning', u'leading', u'travelling', u'planning', u'travelling', u'everything', u'revoking', u'being', u'fighting', u'growing', u'assisting', u'heading', u'warning', u'giving', u'financing', u'joining', u'weighing', u'fighting', u'proving', u'during', u'being', u'waging', u'sparking', u'carrying', u'doing', u'training', u'interesting', u'trying', u'worsening', u'prolonging', u'deepening', u'being', u'interesting', u'watching', u'going', u'alienating', u'going', u'alienating', u'segregating', u'demonstrating', u'segregating', u'referring', u'spring', u'trying', u'understanding', u'describing', u'entering', u'everything', u'warning', u'going', u'roaming', u'calling', u'living', u'letting', u'setting', u'letting', u'watching', u'anything', u'fighting', u'looking', u'putting', u'going', u'meaning', u'committing', u'using', u'touting', u'seeking', u'suffering', u'meaning', u'understanding', u'trying', u'suffering', u'straining', u'believing', u'string', u'being', u'increasing', u'killing', u'crippling', u'thing', u'following', u'seeking', u'suffering', u'including', u'targeting', u'targeting', u'killing', u'forcing', u'being', u'selling', u'according', u'originating', u'stretching', u'including', u'beginning', u'killing', u'preventing', u'getting', u'dividing', u'interesting', u'nothing', u'dividing', u'conflicting', u'standing', u'anything', u'dealing', u'killing', u'knowing', u'thinking', u'waiting', u'beheading', u'having', u'devastating', u'being', u'going', u'going', u'threatening', u'thing', u'something', u'happening', u'butchering', u'being', u'stating', u'starting', u'thing', u'parroting', u'fighting', u'sending', u'doing', u'sending', u'sounding', u'assisting', u'sending', u'saying', u'according', u'saying', u'condemning', u'opening', u'thing', u'frigging', u'leaving', u'killing', u'something', u'something', u'going', u'cking', u'cking', u'speaking', u'during', u'commemorating', u'using', u'including', u'standing', u'during', u'correcting', u'showing', u'being', u'finding', u'carrying', u'threatening', u'having', u'nothing', u'thumping', u'talking', u'driving', u'wagging', u'something', u'anything', u'looking', u'calling', u'going', u'excluding', u'policing', u'asking', u'taking', u'asking', u'using', u'bring', u'going', u'chomping', u'having', u'heading', u'getting', u'using', u'using', u'bring', u'itching', u'playing', u'worrying', u'taking', u'thumping', u'binging', u'going', u'carrying', u'saying', u'thinking', u'looking', u'something', u'interesting', u'trying', u'surprising', u'going', u'going', u'boring', u'telling', u'having', u'beheading', u'thing', u'working', u'having', u'moving', u'defending', u'going', u'going', u'saying', u'going', u'ousting', u'thing', u'going', u'fighting', u'going', u'solving', u'thing', u'going', u'going', u'waiting', u'going', u'letting', u'saying', u'being', u'freaking', u'flying', u'being', u'arguing', u'supporting', u'fighting', u'mouthing', u'restoring', u'failing', u'sending', u'going', u'being', u'returning', u'being', u'knowing', u'carrying', u'making', u'being', u'doing', u'fighting', u'dropping', u'eradicating', u'roaming', u'committing', u'shocking', u'doing', u'doing', u'having', u'going', u'stirring', u'suggesting', u'being', u'getting', u'living', u'worrying', u'going', u'coming', u'saying', u'grinning', u'holding', u'doing', u'making', u'grovelling', u'unthinking', u'gassing', u'supporting', u'gassing', u'starting', u'starting', u'fighting', u'sending', u'being', u'making', u'hacking', u'hacking', u'sending', u'fighting', u'including', u'describing', u'gassing', u'absorbing', u'deciding', u'doing', u'beheading', u'saying', u'going', u'understanding', u'running', u'using', u'fighting', u'using', u'using', u'wing', u'chopping', u'going', u'sending', u'giving', u'morning', u'thinking', u'getting', u'playing', u'saying', u'fighting', u'waging', u'noting', u'using', u'thing', u'contemplating', u'walking', u'catching', u'king', u'killing', u'massacring', u'shooting', u'increasing', u'talking', u'functioning', u'hacking', u'reflecting', u'arriving', u'interesting', u'claiming', u'arriving', u'being', u'working', u'processing', u'intervening', u'doing', u'coming', u'being', u'choosing', u'lying', u'terrorising', u'walking', u'declaring', u'declaring', u'choosing', u'killing', u'accepting', u'believing', u'everything', u'calling', u'having', u'planning', u'fighting', u'learning', u'paying', u'something', u'fighting', u'running', u'holding', u'leaving', u'training', u'waging', u'nothing', u'starving', u'asking', u'leaving', u'holding', u'hearing', u'bombing', u'beginning', u'living', u'suggesting', u'suggesting', u'shifting']\n"
     ]
    }
   ],
   "source": [
    "import re\n",
    "print list(re.findall(r'[a-z]+ing\\b', raw_text))"
   ]
  },
  {
   "cell_type": "code",
   "execution_count": null,
   "metadata": {
    "collapsed": true
   },
   "outputs": [],
   "source": [
    "import re\n",
    "re.findall('muslims?', raw_text)\n",
    "re.findall('.*muslim.*', raw_text)\n",
    "re.findall('[^\\s]+ muslims? [^\\s]+', raw_text)\n",
    "Counter(re.findall('([^\\s]+) muslims? [^\\s]+', raw_text)).most_common()"
   ]
  },
  {
   "cell_type": "markdown",
   "metadata": {},
   "source": [
    "We can use this kind of approach to start matching nouns and their plurals:"
   ]
  },
  {
   "cell_type": "code",
   "execution_count": null,
   "metadata": {
    "collapsed": true
   },
   "outputs": [],
   "source": [
    "re.findall(r'([a-z]+(es|s))', raw_text)"
   ]
  },
  {
   "cell_type": "markdown",
   "metadata": {},
   "source": [
    "Or we could use it to stem our text:"
   ]
  },
  {
   "cell_type": "code",
   "execution_count": null,
   "metadata": {
    "collapsed": true
   },
   "outputs": [],
   "source": [
    "regex = re.compile(r'([a-z]+)(ing|s|ed|er)([^a-z])')\n",
    "re.sub(regex, r'\\1\\3', raw_text)\n",
    "\n",
    "There are limits to this kind of approach, though. What are they?\n",
    "\n",
    "## Stemming\n",
    "\n",
    "Stemming is the task of finding the stem of a word. So, *cats --> cat*, or *taking --> take*. It is an important task when counting words, as often the counting each inflection seperately is not particuarly helpful: forms of the verb 'to be' might seem under-represented if we could *is, are, were, was, am, be, being, been* separately.\n",
    "\n",
    "NLTK has pre-programmed stemmers, but we can build our own using some of the skills we've already learned.\n",
    "\n",
    "A stemmer is the kind of thing that would make a good function, so let's do that.\n",
    "\n",
    "```python\n",
    "def stem(word):\n",
    "    for suffix in ['ing', 'ly', 'ed', 'ious', 'ies', 'ive', 'es', 's', 'ment']: # list of suffixes\n",
    "        if word.endswith(suffix):\n",
    "            return word[:-len(suffix)] # delete the suffix\n",
    "    return word"
   ]
  },
  {
   "cell_type": "markdown",
   "metadata": {},
   "source": [
    "Give it a word to stem!"
   ]
  },
  {
   "cell_type": "code",
   "execution_count": null,
   "metadata": {
    "collapsed": true
   },
   "outputs": [],
   "source": [
    "stem('friends')"
   ]
  },
  {
   "cell_type": "markdown",
   "metadata": {},
   "source": [
    "Let's run it over some text and see how it performs."
   ]
  },
  {
   "cell_type": "code",
   "execution_count": null,
   "metadata": {
    "collapsed": true
   },
   "outputs": [],
   "source": [
    "for sent in tokenized_sents[:5]:\n",
    "    for token in sent:\n",
    "        print(stem(token))"
   ]
  },
  {
   "cell_type": "markdown",
   "metadata": {},
   "source": [
    "Looking at the output, we can see that the stemmer works: *wingers* becomes *winger*, and *tearing* becomes *tear*. But, sometimes it does things we don't want: *Nothing* becomes *noth*, and *mate* becomes *mat*.\n",
    "\n",
    "We can see that this approach has obvious limitations. So, let's rely on a purpose-built stemmer. These rely in part on dictionaries. Note the subtle differences between the two possible stemmers.\n",
    "\n",
    "Currently, we have a list of sentences, and each sentence is a list of words. We need to flatten this list:"
   ]
  },
  {
   "cell_type": "code",
   "execution_count": null,
   "metadata": {
    "collapsed": true
   },
   "outputs": [],
   "source": [
    "tokens = []\n",
    "for sent in tokenized_sents:\n",
    "    for token in sent:\n",
    "        tokens.append(token)"
   ]
  },
  {
   "cell_type": "markdown",
   "metadata": {},
   "source": [
    "Now we can try our NLTK's stemmers!"
   ]
  },
  {
   "cell_type": "code",
   "execution_count": null,
   "metadata": {
    "collapsed": true
   },
   "outputs": [],
   "source": [
    "# instantiate stemmers\n",
    "lancaster = nltk.LancasterStemmer()\n",
    "porter = nltk.PorterStemmer()\n",
    "\n",
    "# stem each word in tokens\n",
    "stems = [lancaster.stem(t) for t in tokens]  # replace lancaster with porter here\n",
    "print(stems[:100])"
   ]
  },
  {
   "cell_type": "markdown",
   "metadata": {},
   "source": [
    "Notice that both stemmers handle some things rather poorly. The main reason for this is that they are not aware of the *word class* of any particular word: *nothing* is a noun, and nouns ending in *ing* should not have *ing* removed by the stemmer (swing, bling, ring...). Later in the course, we'll start annotating corpora with grammatical information. This improves the accuracy of stemmers a lot.\n",
    "\n",
    "> Note: stemming is not *always* the best thing to do: though *thing* is the stem of *things*, things has a unique meaning, as in *things will improve*. If we are interested in vague language, we may not want to collapse things --> thing.\n",
    "\n",
    "## Collocation\n",
    "\n",
    "> *You shall know a word by the company it keeps.* - J.R. Firth, 1957\n",
    "\n",
    "Collocation is a very common area of interest in corpus linguistics. Words pattern together in both expected and unexpected ways. In some contexts, *drug* and *medication* are synonymous, but it would be very rare to hear about *illicit* or *street medication*. Similarly, doctors are unlikely to prescribe the *correct* or *appropriate drug*.\n",
    "\n",
    "This kind of information may be useful to lexicographers, discourse analysts, or advanced language learners.\n",
    "\n",
    "In NLTK, collocation works from ordered lists of tokens. We made this earlier as `tokens`, didn't we?"
   ]
  },
  {
   "cell_type": "code",
   "execution_count": null,
   "metadata": {
    "collapsed": true
   },
   "outputs": [],
   "source": [
    "print(tokens[:50])"
   ]
  },
  {
   "cell_type": "markdown",
   "metadata": {},
   "source": [
    "If not, here:"
   ]
  },
  {
   "cell_type": "code",
   "execution_count": null,
   "metadata": {
    "collapsed": true
   },
   "outputs": [],
   "source": [
    "tokens = []\n",
    "for sent in tokenized_sents:\n",
    "    for token in sent:\n",
    "        tokens.append(token)"
   ]
  },
  {
   "cell_type": "markdown",
   "metadata": {},
   "source": [
    "Now, let's feed these to an NLTK function for measuring collocations:"
   ]
  },
  {
   "cell_type": "code",
   "execution_count": null,
   "metadata": {
    "collapsed": true
   },
   "outputs": [],
   "source": [
    "# get all the functions needed for collocation work\n",
    "from nltk.collocations import *\n",
    "# define statistical tests for bigrams\n",
    "bigram_measures = nltk.collocations.BigramAssocMeasures()\n",
    "# go and find bigrams\n",
    "finder = BigramCollocationFinder.from_words(tokens)\n",
    "# measure which bigrams are important and print the top 30\n",
    "print(sorted(finder.nbest(bigram_measures.raw_freq, 30)))"
   ]
  },
  {
   "cell_type": "markdown",
   "metadata": {},
   "source": [
    "So, that tells us a little: we can see that terrorists, Muslims and the Middle\n",
    "East are commonly collocating in the text. At present, we are only looking for\n",
    "immediately adjacent words. So, let's expand out search to a window of *five\n",
    "words either side*"
   ]
  },
  {
   "cell_type": "code",
   "execution_count": null,
   "metadata": {
    "collapsed": true
   },
   "outputs": [],
   "source": [
    "# ''window size'' specifies the distance at which \n",
    "# two tokens can still be considered collocates\n",
    "finder = BigramCollocationFinder.from_words(tokens, window_size=5)"
   ]
  },
  {
   "cell_type": "markdown",
   "metadata": {},
   "source": [
    "Now we have the appearance of very common words! Let's use NLTK's stopwords list\n",
    "to remove entries containing these:"
   ]
  },
  {
   "cell_type": "code",
   "execution_count": null,
   "metadata": {
    "collapsed": true
   },
   "outputs": [],
   "source": [
    "ignored_words = nltk.corpus.stopwords.words('english')\n",
    "finder.apply_word_filter(lambda w: w.lower() in ignored_words)"
   ]
  },
  {
   "cell_type": "markdown",
   "metadata": {},
   "source": [
    "There! Now we have some interesting collocates. Finally, let's remove\n",
    "punctuation-only entries, or entries that are *n't*, as this is caused by\n",
    "different tokenisers:"
   ]
  },
  {
   "cell_type": "code",
   "execution_count": null,
   "metadata": {
    "collapsed": true
   },
   "outputs": [],
   "source": [
    "finder.apply_word_filter(lambda w: w.lower() in ignored_words or not w.isalnum())"
   ]
  },
  {
   "cell_type": "markdown",
   "metadata": {},
   "source": [
    "You can get a lot more info on collocation at the [NLTK homepage](http://www.nltk.org/howto/collocations.html).\n",
    "\n",
    "Completed bigrams code:"
   ]
  },
  {
   "cell_type": "code",
   "execution_count": null,
   "metadata": {
    "collapsed": true
   },
   "outputs": [],
   "source": [
    "# get all the functions needed for collocation work\n",
    "from nltk.collocations import *\n",
    "# define statistical tests for bigrams\n",
    "bigram_measures = nltk.collocations.BigramAssocMeasures()\n",
    "# go and find bigrams\n",
    "finder = BigramCollocationFinder.from_words(tokens, window_size=5)\n",
    "ignored_words = nltk.corpus.stopwords.words('english')\n",
    "finder.apply_word_filter(lambda w: w.lower() in ignored_words or not w.isalnum())\n",
    "# measure which bigrams are important and print the top 30\n",
    "result = sorted(finder.nbest(bigram_measures.raw_freq, 30))\n",
    "for bigram in result:\n",
    "    print(bigram)"
   ]
  },
  {
   "cell_type": "markdown",
   "metadata": {},
   "source": [
    "## Clustering/n-grams\n",
    "\n",
    "Clustering is the task of finding words that are commonly **immediately** adjacent (as opposed to collocates, which may just be nearby). This is also often called n-grams: bigrams are two tokens that appear together, trigrams are three, etc.\n",
    "\n",
    "Clusters/n-grams have a spooky ability to tell us what a text is about.\n",
    "\n",
    "There's also a method for n-gram production in NLTK. We can use this to understand how n-gramming works.\n",
    "\n",
    "Below, we get lists of any ten adjacent tokens:"
   ]
  },
  {
   "cell_type": "code",
   "execution_count": null,
   "metadata": {
    "collapsed": true
   },
   "outputs": [],
   "source": [
    "from nltk.util import ngrams\n",
    "# define a sentence\n",
    "sentence = 'give a man a fish and you feed him for a day; teach a man to fish and you feed him for a lifetime'  \n",
    "tokenised = nltk.word_tokenize(sentence)\n",
    "# length of ngram\n",
    "n = 10\n",
    "tengrams = list(ngrams(tokenised, n))\n",
    "print(tengrams)"
   ]
  },
  {
   "cell_type": "markdown",
   "metadata": {},
   "source": [
    "So, there are plenty of tengrams in there! What we're interested in, however, is\n",
    "duplicated n-grams:"
   ]
  },
  {
   "cell_type": "code",
   "execution_count": null,
   "metadata": {
    "collapsed": true
   },
   "outputs": [],
   "source": [
    "def ngrammer(text, gramsize = 3, threshold = 4):\n",
    "    \"\"\"get ngrams of gramsize size and threshold minimum occurrences\"\"\"\n",
    "    if type(text) != list:\n",
    "        text = nltk.word_tokenize(text)\n",
    "    # skip punctuation?\n",
    "    # \n",
    "    ngms = ngrams(text, gramsize)\n",
    "    cntr = Counter(ngms)\n",
    "    return Counter({k: v for k, v in cntr.items() if v >= threshold})"
   ]
  },
  {
   "cell_type": "markdown",
   "metadata": {},
   "source": [
    "Now that it's defined, let's run it, looking for trigrams"
   ]
  },
  {
   "cell_type": "code",
   "execution_count": null,
   "metadata": {
    "collapsed": true
   },
   "outputs": [],
   "source": [
    "ngrammer(raw, gramsize = 3)"
   ]
  },
  {
   "cell_type": "markdown",
   "metadata": {},
   "source": [
    "Whoops, punctutation."
   ]
  },
  {
   "cell_type": "code",
   "execution_count": null,
   "metadata": {
    "collapsed": true
   },
   "outputs": [],
   "source": [
    "# add me:\n",
    "text = [token for token in text if token.isalnum()]"
   ]
  },
  {
   "cell_type": "markdown",
   "metadata": {},
   "source": [
    "Too many results? Let's set a higher threshold than the default."
   ]
  },
  {
   "cell_type": "code",
   "execution_count": null,
   "metadata": {
    "collapsed": true
   },
   "outputs": [],
   "source": [
    "ngrammer(raw, gramsize = 3, threshold = 10)"
   ]
  },
  {
   "cell_type": "markdown",
   "metadata": {},
   "source": [
    "## Concordancing with regular expressions\n",
    "\n",
    "We've already done a bit of concordancing. In discourse-analytic research, concordancing is often used to perform thematic categorisation."
   ]
  },
  {
   "cell_type": "code",
   "execution_count": null,
   "metadata": {
    "collapsed": true
   },
   "outputs": [],
   "source": [
    "text = nltk.Text(tokens)  # formats our tokens for concordancing\n",
    "text.concordance(\"muslims\")\n",
    "\n",
    "# A problem with the NLTK concordancer is that it only works with individual tokens. What if we want to find words that end with **ment*, or words beginning with *poli**?\n",
    "\n",
    "# We already searched text with Regular Expressions. It's not much more work to build regex functionality into our own concordancer.\n",
    "\n",
    "# From running the code below, you can see that bracketting sections of our regex causes results to split into lists:"
   ]
  },
  {
   "cell_type": "code",
   "execution_count": null,
   "metadata": {
    "collapsed": true
   },
   "outputs": [],
   "source": [
    "# define a regex for different aussie words"
   ]
  },
  {
   "cell_type": "markdown",
   "metadata": {},
   "source": [
    "Well, it's ugly, but it works. We can see five bracketted results, each containing three strings. The first and third strings are the left-context and right-context. The second of the three strings is the search term.\n",
    "\n",
    "These three sections are, with a bit of tweaking, the same as the output given by a concordancer.\n",
    "\n",
    "Let's go ahead and turn our regex seacher into a concordancer:"
   ]
  },
  {
   "cell_type": "code",
   "execution_count": null,
   "metadata": {
    "collapsed": true
   },
   "outputs": [],
   "source": [
    "def concordancer(text, query):\n",
    "    for line in text.splitlines():\n",
    "        if query in line:\n",
    "            start, end = line.split(query, 1)  \n",
    "            concline = [start[-30:], query, end[:30]]\n",
    "            print(\"\\t\".join(concline).expandtabs(35))"
   ]
  },
  {
   "cell_type": "code",
   "execution_count": null,
   "metadata": {
    "collapsed": true
   },
   "outputs": [],
   "source": [
    "concordancer(raw, 'australia')"
   ]
  },
  {
   "cell_type": "markdown",
   "metadata": {},
   "source": [
    "Great! With six lines of code, we've officially created a function that improves on the one provided by NLTK! And think how easy it would be to add more functionality: an argument dictating the size of the window (currently 30 characters), or printing line numbers beside matches, would be pretty easy to add, as well.\n",
    "\n",
    "> Adding too much functionality is known as *feature creep*. It's often best to keep your functions simple and more varied. An old adage in programming is to *make each program do one thing well*.\n",
    "\n",
    "In the cells below, try concordancing a few things. Also try creating variables with concordance results, and then manipulate the lists. If you encounter problems with the way the concordancer runs, alter the function and redefine it. If you want, try implementing the window size variable!\n",
    "\n",
    "> If you wanted to get really creative, you could try stemming concordance or n-gram results!\n",
    "\n",
    "## Summary\n",
    "\n",
    "That's the end of session three! Great work.\n",
    "\n",
    "So, some of these tasks are a little dry---seeing results as lists of words and scores isn't always a lot of fun. But ultimately, they're pretty important things to know if you want to avoid the 'black box approach', where you simply dump words into a machine and analyse what the machine spits out.\n",
    "\n",
    "Remember that almost every task in corpus linguistics/distance reading depends on how we segment our data into sentences, clauses, words, etc.\n",
    "\n",
    "Building a stemmer from scratch taught us how to use regular expressions, and their power. But, we also saw that they weren't perfect for the task. In later lessons, we'll use more advanced methods to normalise our data.\n",
    "\n",
    "# Bibliography\n",
    "\n",
    "<a id=\"ref:baker\"></a>\n",
    "Baker, P., Gabrielatos, C., Khosravinik, M., Krzyzanowski, M., McEnery, T., &\n",
    "Wodak, R. (2008). A useful methodological synergy? Combining critical discourse\n",
    "analysis and corpus linguistics to examine discourses of refugees and asylum\n",
    "seekers in the UK press. Discourse & Society, 19(3), 273-306.\n",
    "\n",
    "<a id=\"firth\"></a>\n",
    "Firth, J. (1957).  *A Synopsis of Linguistic Theory 1930-1955*. In: Studies in\n",
    "Linguistic Analysis, Philological Society, Oxford; reprinted in Palmer, F. (ed.)\n",
    "1968 Selected Papers of J. R. Firth, Longman, Harlow.\n",
    "\n",
    "<a id=\"ref:hymes\"></a>\n",
    "Hymes, D. (1972). On communicative competence. In J. Pride & J. Holmes (Eds.),\n",
    "Sociolinguistics (pp. 269-293). Harmondsworth: Penguin Books. Retrieved from [ht\n",
    "tp://humanidades.uprrp.edu/smjeg/reserva/Estudios%20Hispanicos/espa3246/Prof%20S\n",
    "unny%20Cabrera/ESPA%203246%20-%20On%20Communicative%20Competence%20p%2053-73.pdf\n",
    "](http://humanidades.uprrp.edu/smjeg/reserva/Estudios%20Hispanicos/espa3246/Prof\n",
    "%20Sunny%20Cabrera/ESPA%203246%20-%20On%20Communicative%20Competence%20p%2053-73\n",
    ".pdf)\n",
    "\n",
    "<a id=\"ref:widdowson\"></a>\n",
    "Widdowson, H. G. (2000). On the limitations of linguistics applied. Applied\n",
    "Linguistics, 21(1), 3. Available at [http://applij.oxfordjournals.org/content/21\n",
    "/1/3.short](http://applij.oxfordjournals.org/content/21/1/3.short)."
   ]
  }
 ],
 "metadata": {
  "kernelspec": {
   "display_name": "Python 2",
   "language": "python",
   "name": "python2"
  },
  "language_info": {
   "codemirror_mode": {
    "name": "ipython",
    "version": 2
   },
   "file_extension": ".py",
   "mimetype": "text/x-python",
   "name": "python",
   "nbconvert_exporter": "python",
   "pygments_lexer": "ipython2",
   "version": "2.7.10"
  }
 },
 "nbformat": 4,
 "nbformat_minor": 0
}
